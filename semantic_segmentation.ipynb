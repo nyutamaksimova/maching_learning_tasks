{
 "cells": [
  {
   "cell_type": "code",
   "execution_count": 1,
   "id": "dd40866f",
   "metadata": {},
   "outputs": [],
   "source": [
    "from torch.utils.data import Dataset, DataLoader\n",
    "import numpy as np\n",
    "import torchvision.transforms as t\n",
    "import os\n",
    "import cv2\n",
    "import torch\n",
    "from PIL import Image\n",
    "\n",
    "class SegmentationDataset(Dataset):\n",
    "    \n",
    "    def __init__(self, imgs_dir, masks_dir):\n",
    "        self.imgs_dir = imgs_dir\n",
    "        self.masks_dir = masks_dir\n",
    "        \n",
    "        self.imgs_paths = os.listdir(self.imgs_dir)\n",
    "        self.imgs_paths.sort()\n",
    "        \n",
    "        self.masks_paths = os.listdir(self.masks_dir)\n",
    "        self.masks_paths.sort()\n",
    "        \n",
    "    def __len__(self):\n",
    "        return len(self.imgs_paths)\n",
    "    \n",
    "    def __getitem__(self, idx, size=(512, 512)):\n",
    "        \n",
    "        img = cv2.imread(os.path.join(self.imgs_dir, self.imgs_paths[idx]))\n",
    "        img = Image.fromarray(img)\n",
    "        img_actions = t.Compose([t.Resize(size),\n",
    "                              t.RandomRotation(degrees=(0, 180)), \n",
    "                              t.RandomPerspective(distortion_scale=0.6, p=1.0),\n",
    "                              t.GaussianBlur(kernel_size=(5, 9), sigma=(0.1, 5)),\n",
    "                             t.ToTensor(),\n",
    "                             t.Normalize(mean=[0.485, 0.456, 0.406], std=[0.229, 0.224, 0.225])\n",
    "                            ])\n",
    "        img = img_actions(img)\n",
    "      \n",
    "        mask = cv2.imread(os.path.join(self.masks_dir, self.masks_paths[idx]), cv2.IMREAD_GRAYSCALE)\n",
    "        mask = cv2.resize(mask, (512, 512))\n",
    "        mask = torch.from_numpy(mask).long()\n",
    "                \n",
    "        return img, mask"
   ]
  },
  {
   "cell_type": "code",
   "execution_count": 2,
   "id": "b387a346",
   "metadata": {},
   "outputs": [],
   "source": [
    "train_dataset = SegmentationDataset(\"./dataset_sample/original_images/\", \"./dataset_sample/label_images_semantic/\")"
   ]
  },
  {
   "cell_type": "code",
   "execution_count": 3,
   "id": "368f7412",
   "metadata": {},
   "outputs": [],
   "source": [
    "val_dataset = SegmentationDataset(\"./dataset_sample/original_images/\", \"./dataset_sample/label_images_semantic/\")"
   ]
  },
  {
   "cell_type": "code",
   "execution_count": 4,
   "id": "606ee4b5",
   "metadata": {},
   "outputs": [],
   "source": [
    "batch_size = 3\n",
    "\n",
    "train_loader = DataLoader(train_dataset, batch_size=batch_size, shuffle=True)\n",
    "val_loader = DataLoader(val_dataset, batch_size=batch_size, shuffle=True) "
   ]
  },
  {
   "cell_type": "code",
   "execution_count": null,
   "id": "78d1a90a",
   "metadata": {},
   "outputs": [],
   "source": []
  },
  {
   "cell_type": "code",
   "execution_count": 5,
   "id": "a9448635",
   "metadata": {},
   "outputs": [],
   "source": [
    "import segmentation_models_pytorch as smp\n",
    "\n",
    "model = smp.Unet('mobilenet_v2', encoder_weights='imagenet', classes=23)"
   ]
  },
  {
   "cell_type": "code",
   "execution_count": 6,
   "id": "13351f9d",
   "metadata": {},
   "outputs": [],
   "source": [
    "for param in model.encoder.parameters():\n",
    "    param.requires_grad = True"
   ]
  },
  {
   "cell_type": "code",
   "execution_count": null,
   "id": "163bd67e",
   "metadata": {},
   "outputs": [],
   "source": []
  },
  {
   "cell_type": "code",
   "execution_count": 7,
   "id": "b0d941ae",
   "metadata": {},
   "outputs": [
    {
     "name": "stdout",
     "output_type": "stream",
     "text": [
      "Using device: cpu\n"
     ]
    }
   ],
   "source": [
    "device = torch.device('cuda') if torch.cuda.is_available() else torch.device('cpu')\n",
    "print('Using device:', device)"
   ]
  },
  {
   "cell_type": "code",
   "execution_count": 8,
   "id": "e895c123",
   "metadata": {},
   "outputs": [],
   "source": [
    "from torch.nn import CrossEntropyLoss\n",
    "\n",
    "epoch_count = 10\n",
    "\n",
    "loss_fn = CrossEntropyLoss()"
   ]
  },
  {
   "cell_type": "code",
   "execution_count": 21,
   "id": "075990dd",
   "metadata": {},
   "outputs": [],
   "source": [
    "learning_rate = 0.01\n",
    "\n",
    "optimizer = torch.optim.Adam(model.parameters(), lr=learning_rate)"
   ]
  },
  {
   "cell_type": "code",
   "execution_count": 22,
   "id": "82812303",
   "metadata": {},
   "outputs": [],
   "source": [
    "import torch.nn.functional as F\n",
    "\n",
    "def pixel_accuracy(output, mask):\n",
    "    with torch.no_grad():\n",
    "        output = torch.argmax(F.softmax(output, dim=1), dim=1)\n",
    "        correct = torch.eq(output, mask).int()\n",
    "        accuracy = float(correct.sum()) / float(correct.numel())\n",
    "    return accuracy"
   ]
  },
  {
   "cell_type": "code",
   "execution_count": 23,
   "id": "9c0560e5",
   "metadata": {},
   "outputs": [
    {
     "name": "stdout",
     "output_type": "stream",
     "text": [
      "Epoch 1 / 10\n",
      "-------------------------------\n"
     ]
    },
    {
     "name": "stderr",
     "output_type": "stream",
     "text": [
      "100%|████████████████████████████████████████████| 3/3 [00:26<00:00,  8.85s/it]\n",
      "100%|████████████████████████████████████████████| 3/3 [00:15<00:00,  5.13s/it]\n"
     ]
    },
    {
     "name": "stdout",
     "output_type": "stream",
     "text": [
      "train loss = 1.9769563277562459 | accuracy = 0.43284861246744794\n",
      "val loss = 1.944899360338847 | accuracy = 0.44289398193359375\n",
      "Epoch 2 / 10\n",
      "-------------------------------\n"
     ]
    },
    {
     "name": "stderr",
     "output_type": "stream",
     "text": [
      "100%|████████████████████████████████████████████| 3/3 [00:31<00:00, 10.34s/it]\n",
      "100%|████████████████████████████████████████████| 3/3 [00:15<00:00,  5.20s/it]\n"
     ]
    },
    {
     "name": "stdout",
     "output_type": "stream",
     "text": [
      "train loss = 1.9608789682388306 | accuracy = 0.44742902119954425\n",
      "val loss = 1.935100515683492 | accuracy = 0.4655689663357205\n",
      "Epoch 3 / 10\n",
      "-------------------------------\n"
     ]
    },
    {
     "name": "stderr",
     "output_type": "stream",
     "text": [
      "100%|████████████████████████████████████████████| 3/3 [00:29<00:00,  9.83s/it]\n",
      "100%|████████████████████████████████████████████| 3/3 [00:16<00:00,  5.41s/it]\n"
     ]
    },
    {
     "name": "stdout",
     "output_type": "stream",
     "text": [
      "train loss = 1.9120680093765259 | accuracy = 0.4638693067762587\n",
      "val loss = 1.9531515041987102 | accuracy = 0.44742902119954425\n",
      "Epoch 4 / 10\n",
      "-------------------------------\n"
     ]
    },
    {
     "name": "stderr",
     "output_type": "stream",
     "text": [
      "100%|████████████████████████████████████████████| 3/3 [00:31<00:00, 10.41s/it]\n",
      "100%|████████████████████████████████████████████| 3/3 [00:15<00:00,  5.27s/it]\n"
     ]
    },
    {
     "name": "stdout",
     "output_type": "stream",
     "text": [
      "train loss = 1.9526398181915283 | accuracy = 0.44742902119954425\n",
      "val loss = 1.959132194519043 | accuracy = 0.4394217597113715\n",
      "Epoch 5 / 10\n",
      "-------------------------------\n"
     ]
    },
    {
     "name": "stderr",
     "output_type": "stream",
     "text": [
      "100%|████████████████████████████████████████████| 3/3 [00:30<00:00, 10.17s/it]\n",
      "100%|████████████████████████████████████████████| 3/3 [00:16<00:00,  5.53s/it]\n"
     ]
    },
    {
     "name": "stdout",
     "output_type": "stream",
     "text": [
      "train loss = 1.8654393752415974 | accuracy = 0.48541620042588973\n",
      "val loss = 1.9887312253316243 | accuracy = 0.4411214192708333\n",
      "Epoch 6 / 10\n",
      "-------------------------------\n"
     ]
    },
    {
     "name": "stderr",
     "output_type": "stream",
     "text": [
      "100%|████████████████████████████████████████████| 3/3 [00:31<00:00, 10.45s/it]\n",
      "100%|████████████████████████████████████████████| 3/3 [00:17<00:00,  5.77s/it]\n"
     ]
    },
    {
     "name": "stdout",
     "output_type": "stream",
     "text": [
      "train loss = 1.8869458039601643 | accuracy = 0.4739146762424045\n",
      "val loss = 1.9474901755650837 | accuracy = 0.4299761454264323\n",
      "Epoch 7 / 10\n",
      "-------------------------------\n"
     ]
    },
    {
     "name": "stderr",
     "output_type": "stream",
     "text": [
      "100%|████████████████████████████████████████████| 3/3 [00:31<00:00, 10.37s/it]\n",
      "100%|████████████████████████████████████████████| 3/3 [00:17<00:00,  5.76s/it]\n"
     ]
    },
    {
     "name": "stdout",
     "output_type": "stream",
     "text": [
      "train loss = 1.9728219509124756 | accuracy = 0.4491286807590061\n",
      "val loss = 1.9617644945780437 | accuracy = 0.4526229434543186\n",
      "Epoch 8 / 10\n",
      "-------------------------------\n"
     ]
    },
    {
     "name": "stderr",
     "output_type": "stream",
     "text": [
      "100%|████████████████████████████████████████████| 3/3 [00:32<00:00, 10.72s/it]\n",
      "100%|████████████████████████████████████████████| 3/3 [00:17<00:00,  5.96s/it]\n"
     ]
    },
    {
     "name": "stdout",
     "output_type": "stream",
     "text": [
      "train loss = 1.9149071375528972 | accuracy = 0.45090124342176646\n",
      "val loss = 1.916374683380127 | accuracy = 0.4609686533610026\n",
      "Epoch 9 / 10\n",
      "-------------------------------\n"
     ]
    },
    {
     "name": "stderr",
     "output_type": "stream",
     "text": [
      "100%|████████████████████████████████████████████| 3/3 [00:29<00:00,  9.94s/it]\n",
      "100%|████████████████████████████████████████████| 3/3 [00:15<00:00,  5.29s/it]\n"
     ]
    },
    {
     "name": "stdout",
     "output_type": "stream",
     "text": [
      "train loss = 1.964348832766215 | accuracy = 0.4394217597113716\n",
      "val loss = 1.9000898202260335 | accuracy = 0.4739146762424045\n",
      "Epoch 10 / 10\n",
      "-------------------------------\n"
     ]
    },
    {
     "name": "stderr",
     "output_type": "stream",
     "text": [
      "100%|████████████████████████████████████████████| 3/3 [00:27<00:00,  9.19s/it]\n",
      "100%|████████████████████████████████████████████| 3/3 [00:16<00:00,  5.49s/it]"
     ]
    },
    {
     "name": "stdout",
     "output_type": "stream",
     "text": [
      "train loss = 1.8874547084172566 | accuracy = 0.46734152899848086\n",
      "val loss = 1.9646495978037517 | accuracy = 0.43167580498589414\n"
     ]
    },
    {
     "name": "stderr",
     "output_type": "stream",
     "text": [
      "\n"
     ]
    }
   ],
   "source": [
    "from tqdm import tqdm\n",
    "\n",
    "cont_training = 7\n",
    "train_losses = []\n",
    "train_acc = []\n",
    "max_acc = 0\n",
    "min_loss = np.inf\n",
    "val_losses = []\n",
    "val_acc = []\n",
    "\n",
    "    \n",
    "for epoch in range(epoch_count):\n",
    "    print(f\"Epoch {epoch+1} / {epoch_count}\\n-------------------------------\")\n",
    "    train_accuracy = 0\n",
    "    train_loss = 0\n",
    "    \n",
    "    for batch_num, (img_batch, mask_batch) in enumerate(tqdm(train_loader)):\n",
    "\n",
    "        img_batch = img_batch.to(device) \n",
    "        mask_batch = mask_batch.to(device)\n",
    "    \n",
    "        output_batch = model(img_batch)\n",
    "        loss_value = loss_fn(output_batch, mask_batch)\n",
    "        train_loss += loss_value.item()\n",
    "        \n",
    "        optimizer.zero_grad()\n",
    "        loss_value.backward()\n",
    "        optimizer.step()           \n",
    "    \n",
    "        train_accuracy += pixel_accuracy(output_batch, mask_batch)\n",
    "                \n",
    "    else:\n",
    "        \n",
    "        val_loss = 0\n",
    "        val_accuracy = 0\n",
    "        \n",
    "        with torch.no_grad():\n",
    "\n",
    "            for batch_num, (img_batch, mask_batch) in enumerate(tqdm(val_loader)):\n",
    "\n",
    "                img_batch = img_batch.to(device) \n",
    "                mask_batch = mask_batch.to(device)\n",
    "\n",
    "                output_batch = model(img_batch)\n",
    "                val_loss_value = loss_fn(output_batch, mask_batch)\n",
    "                val_loss += val_loss_value.item()\n",
    "\n",
    "                val_accuracy += pixel_accuracy(output_batch, mask_batch)        \n",
    "                \n",
    "        train_losses.append(train_loss/len(train_loader))\n",
    "        val_losses.append(val_loss/len(val_loader))\n",
    "        train_acc.append(train_accuracy/len(train_loader))\n",
    "        val_acc.append(val_accuracy/len(val_loader))       \n",
    "                \n",
    "                   \n",
    "    if val_accuracy > max_acc:\n",
    "        max_acc = val_accuracy\n",
    "        model_to_save = {\n",
    "                            'epoch': epoch,\n",
    "                            'model_state_dict': model.state_dict(),\n",
    "                            'optimizer_state_dict': optimizer.state_dict(),\n",
    "                            'accuracy': val_accuracy,\n",
    "                            }\n",
    "                   \n",
    "    if val_loss_value > min_loss:\n",
    "        cont_training -= 1\n",
    "        min_loss = val_loss_value\n",
    "        if not cont_training:\n",
    "            print('Stop training')\n",
    "            break\n",
    "                \n",
    "         \n",
    "                \n",
    "    print(f\"train loss = {train_loss/len(train_loader)} | accuracy = {train_accuracy/len(train_loader)}\")\n",
    "    print(f\"val loss = {val_loss/len(val_loader)} | accuracy = {val_accuracy/len(val_loader)}\")\n",
    "    torch.save(model_to_save, 'model.pt')\n",
    "    \n",
    "        "
   ]
  },
  {
   "cell_type": "code",
   "execution_count": 24,
   "id": "89e28c25",
   "metadata": {},
   "outputs": [],
   "source": [
    "import matplotlib.pyplot as plt\n",
    "def plot(train_data, val_data, label ):\n",
    "    plt.plot(train_data, label='train', marker='o')\n",
    "    plt.plot(val_data, label='val', marker='o')  \n",
    "    plt.ylabel(label)\n",
    "    plt.xlabel('epoch')\n",
    "    plt.legend(), plt.grid()\n",
    "    plt.show()"
   ]
  },
  {
   "cell_type": "code",
   "execution_count": 25,
   "id": "b4030e8b",
   "metadata": {},
   "outputs": [
    {
     "data": {
      "image/png": "[encoded data removed]",
      "text/plain": [
       "<Figure size 432x288 with 1 Axes>"
      ]
     },
     "metadata": {
      "needs_background": "light"
     },
     "output_type": "display_data"
    },
    {
     "data": {
      "image/png": "[encoded data removed]",
      "text/plain": [
       "<Figure size 432x288 with 1 Axes>"
      ]
     },
     "metadata": {
      "needs_background": "light"
     },
     "output_type": "display_data"
    }
   ],
   "source": [
    "plot(train_losses, val_losses, 'loss')\n",
    "plot(train_acc, val_acc, 'accuracy')"
   ]
  },
  {
   "cell_type": "code",
   "execution_count": null,
   "id": "574a686c",
   "metadata": {},
   "outputs": [],
   "source": []
  },
  {
   "cell_type": "code",
   "execution_count": null,
   "id": "398047e6",
   "metadata": {},
   "outputs": [],
   "source": []
  }
 ],
 "metadata": {
  "kernelspec": {
   "display_name": "Python 3 (ipykernel)",
   "language": "python",
   "name": "python3"
  },
  "language_info": {
   "codemirror_mode": {
    "name": "ipython",
    "version": 3
   },
   "file_extension": ".py",
   "mimetype": "text/x-python",
   "name": "python",
   "nbconvert_exporter": "python",
   "pygments_lexer": "ipython3",
   "version": "3.9.12"
  }
 },
 "nbformat": 4,
 "nbformat_minor": 5
}
